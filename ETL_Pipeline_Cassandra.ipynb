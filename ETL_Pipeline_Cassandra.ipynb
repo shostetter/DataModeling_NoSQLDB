{
 "cells": [
  {
   "cell_type": "code",
   "execution_count": 1,
   "metadata": {},
   "outputs": [],
   "source": [
    "# Import Python packages \n",
    "import pandas as pd\n",
    "import cassandra\n",
    "import csv"
   ]
  },
  {
   "cell_type": "markdown",
   "metadata": {},
   "source": [
    "# Run data setup script  \n",
    " - Processes original event data\n",
    " - Writes out new csv event data used for the Apache Cassandra tables"
   ]
  },
  {
   "cell_type": "code",
   "execution_count": 2,
   "metadata": {},
   "outputs": [
    {
     "name": "stdout",
     "output_type": "stream",
     "text": [
      "Read in 8056 rows and wrote out 6821 rows to new event file\n"
     ]
    }
   ],
   "source": [
    "# Runs preprocessing setup script \n",
    "!python CassandraPreprocessing.py"
   ]
  },
  {
   "cell_type": "code",
   "execution_count": 3,
   "metadata": {},
   "outputs": [],
   "source": [
    "# new event data file\n",
    "event_file = 'event_datafile_new.csv'"
   ]
  },
  {
   "cell_type": "markdown",
   "metadata": {},
   "source": [
    "## Load event data into Cassanda database\n",
    "### The CSV file titled <font color=red>event_datafile_new.csv</font>, located within the Workspace directory.  The event_datafile_new.csv contains the following columns: \n",
    "- artist \n",
    "- firstName of user\n",
    "- gender of user\n",
    "- item number in session\n",
    "- last name of user\n",
    "- length of the song\n",
    "- level (paid or free song)\n",
    "- location of the user\n",
    "- sessionId\n",
    "- song title\n",
    "- userId"
   ]
  },
  {
   "cell_type": "markdown",
   "metadata": {},
   "source": [
    "## Setup Cluster and Keyspace "
   ]
  },
  {
   "cell_type": "code",
   "execution_count": 4,
   "metadata": {},
   "outputs": [],
   "source": [
    "# This should make a connection to a Cassandra instance your local machine \n",
    "# (127.0.0.1)\n",
    "\n",
    "from cassandra.cluster import Cluster\n",
    "cluster = Cluster()\n",
    "\n",
    "# To establish connection and begin executing queries, need a session\n",
    "session = cluster.connect()"
   ]
  },
  {
   "cell_type": "code",
   "execution_count": 5,
   "metadata": {},
   "outputs": [
    {
     "name": "stdout",
     "output_type": "stream",
     "text": [
      "\n",
      " sparkify KEYSPACE created\n"
     ]
    }
   ],
   "source": [
    "session.execute(\"DROP KEYSPACE IF EXISTS parkify\")\n",
    "try:\n",
    "    session.execute(\"\"\"\n",
    "    CREATE KEYSPACE IF NOT EXISTS sparkify \n",
    "    WITH REPLICATION = \n",
    "    { 'class' : 'SimpleStrategy', 'replication_factor' : 1 }\"\"\"\n",
    ")\n",
    "    print ('\\n %s KEYSPACE created' % 'sparkify')\n",
    "except Exception as e:\n",
    "    print(e)"
   ]
  },
  {
   "cell_type": "code",
   "execution_count": 6,
   "metadata": {},
   "outputs": [],
   "source": [
    "try:\n",
    "    session.set_keyspace('sparkify')\n",
    "except Exception as e:\n",
    "    print(e)"
   ]
  },
  {
   "cell_type": "markdown",
   "metadata": {},
   "source": [
    "# The create necessary Apache Cassanda tables and queries to answer the following three questions of the data:  \n",
    "\n",
    "#### 1. Give me the artist, song title and song's length in the music app history that was heard during  sessionId = 338, and itemInSession  = 4\n",
    "\n",
    "#### 2. Give me only the following: name of artist, song (sorted by itemInSession) and user (first and last name) for userid = 10, sessionid = 182\n",
    "    \n",
    "#### 3. Give me every user name (first and last) in my music app history who listened to the song 'All Hands Against His Own'"
   ]
  },
  {
   "cell_type": "markdown",
   "metadata": {},
   "source": [
    "\n",
    "## Question 1.\n",
    "\n",
    "## Create table `song_length` to answer questions about specific session IDs and items itemInSession\n",
    " - The `song_length` table is modeled for responding the question #1 above which requires both session ID and the session item number.  \n",
    " - PK (session_id and item_in_session) - The session ID alone is not suffiecient for uniqueness, so a composite with item was used. "
   ]
  },
  {
   "cell_type": "code",
   "execution_count": 7,
   "metadata": {},
   "outputs": [],
   "source": [
    "# Uncomment below if need to replace table\n",
    "# session.execute(\"DROP TABLE IF EXISTS song_length\")\n",
    "\n",
    "query = \"CREATE TABLE IF NOT EXISTS song_length \"\n",
    "query = query + \"(session_id int, item_in_session int, artist text, song text, length decimal,\\\n",
    "PRIMARY KEY (session_id, item_in_session))\"\n",
    "try:\n",
    "    session.execute(query)\n",
    "except Exception as e:\n",
    "    print(e)\n"
   ]
  },
  {
   "cell_type": "code",
   "execution_count": 8,
   "metadata": {},
   "outputs": [],
   "source": [
    "# read in data from csv\n",
    "with open(event_file, encoding = 'utf8') as f:\n",
    "    csvreader = csv.reader(f)\n",
    "    next(csvreader) # skip header\n",
    "    for line in csvreader:\n",
    "        query = \"INSERT INTO song_length (session_id, item_in_session, artist, song, length)\"\n",
    "        query = query + \" VALUES (%s, %s, %s, %s, %s)\"\n",
    "        # parse rows and pull only needed columns \n",
    "        session.execute(query, (int(line[8]), int(line[3]), line[0], line[9], float(line[5])))"
   ]
  },
  {
   "cell_type": "markdown",
   "metadata": {},
   "source": [
    "#### Question 1: <br>Select artist, song title and song's length in the music app history that was heard during  sessionId = 338, and itemInSession  = 4\n"
   ]
  },
  {
   "cell_type": "code",
   "execution_count": 9,
   "metadata": {},
   "outputs": [
    {
     "name": "stdout",
     "output_type": "stream",
     "text": [
      "\n",
      "Artists, songs, and song length from session 338 with itemInSession = 4:\n",
      "\n",
      "\t Faithless Music Matters (Mark Knight Dub) 495.3073\n"
     ]
    }
   ],
   "source": [
    "query = \"select artist, song, length from song_length where session_id = 338 and item_in_session = 4\"\n",
    "try:\n",
    "    rows = session.execute(query)\n",
    "except Exception as e:\n",
    "    print(e)\n",
    "print (\"\\nArtists, songs, and song length from session 338 with itemInSession = 4:\\n\")    \n",
    "for row in rows:\n",
    "    print ('\\t', row.artist, row.song, row.length)"
   ]
  },
  {
   "cell_type": "markdown",
   "metadata": {},
   "source": [
    "\n",
    "## Question 2.\n",
    "\n",
    "## Create table `song_session` to answer questions about specific session IDs and items itemInSession\n",
    " - The `song_session` table is modeled for responding the question #2 above.  \n",
    " - PK (user_id and session_id) cluster key (item_in_session) - The composite of user and session IDs guarantee uniqueness and the item in the cluster allows for efficient sorting and data retrieval. "
   ]
  },
  {
   "cell_type": "code",
   "execution_count": 10,
   "metadata": {},
   "outputs": [],
   "source": [
    "# Uncomment below if need to replace table\n",
    "# session.execute(\"DROP TABLE IF EXISTS song_session\")\n",
    "\n",
    "query = \"CREATE TABLE IF NOT EXISTS song_session \"\n",
    "query = query + \"(user_id int, session_id int, item_in_session int, artist text, song text, user_first_name text, user_last_name text,\\\n",
    "PRIMARY KEY ((user_id, session_id), item_in_session))\"\n",
    "try:\n",
    "    session.execute(query)\n",
    "except Exception as e:\n",
    "    print(e)\n"
   ]
  },
  {
   "cell_type": "code",
   "execution_count": 11,
   "metadata": {},
   "outputs": [],
   "source": [
    "with open(event_file, encoding = 'utf8') as f:\n",
    "    csvreader = csv.reader(f)\n",
    "    next(csvreader) # skip header\n",
    "    for line in csvreader:\n",
    "        query = \"INSERT INTO song_session (user_id, session_id, item_in_session, artist, song, user_first_name, user_last_name)\"\n",
    "        query = query + \" VALUES (%s, %s, %s, %s, %s, %s, %s)\"\n",
    "        # parse rows and pull only needed columns\n",
    "        session.execute(query, (int(line[10]), int(line[8]), int(line[3]), line[0], line[9], line[1], line[4]))"
   ]
  },
  {
   "cell_type": "markdown",
   "metadata": {},
   "source": [
    "#### Question 2: <br>Select name of artist, song and user (first and last name) for userid = 10, sessionid = 182 <br>sorted by itemInSession    "
   ]
  },
  {
   "cell_type": "code",
   "execution_count": 12,
   "metadata": {},
   "outputs": [
    {
     "name": "stdout",
     "output_type": "stream",
     "text": [
      "Artists, songs, and users from session 182 and with userID 10 orderd by itemInSession:\n",
      "\n",
      "\t Down To The Bone Keep On Keepin' On\n",
      "\t Three Drives Greece 2000\n",
      "\t Sebastien Tellier Kilometer\n",
      "\t Lonnie Gordon Catch You Baby (Steve Pitron & Max Sanna Radio Edit)\n"
     ]
    }
   ],
   "source": [
    "query = \"select artist, song, user_first_name, user_last_name \\\n",
    "from song_session where user_id = 10 and session_id = 182 \\\n",
    "ORDER by item_in_session\"\n",
    "try:\n",
    "    rows = session.execute(query)\n",
    "except Exception as e:\n",
    "    print(e)\n",
    "print (\"Artists, songs, and users from session 182 and with userID 10 orderd by itemInSession:\\n\")    \n",
    "for row in rows:\n",
    "    print ('\\t', row.artist, row.song)#, row.user_first_name, row.user_last_name)"
   ]
  },
  {
   "cell_type": "markdown",
   "metadata": {},
   "source": [
    "\n",
    "## Question 3.\n",
    "\n",
    "## Create table  `song_table` to answer questions about which users have listened to specific songs.\n",
    " - The `song_table` is modeled on question #3 above. \n",
    " - PK (song and user_id) - The composite of song and userID guarantee  uniqueness and allow for efficient data retrieval, but only song name (partition key) is needed for filtering. \n"
   ]
  },
  {
   "cell_type": "code",
   "execution_count": 13,
   "metadata": {},
   "outputs": [],
   "source": [
    "# Uncomment below if need to replace table\n",
    "#session.execute(\"DROP TABLE IF EXISTS song_users\")\n",
    "\n",
    "# song by user info (name, gender and level)\n",
    "query = \"CREATE TABLE IF NOT EXISTS song_users \"\n",
    "query = query + \"(song text, user_id int, user_first_name text, user_last_name text, PRIMARY KEY (song, user_id))\" \n",
    "try:\n",
    "    session.execute(query)\n",
    "except Exception as e:\n",
    "    print(e)\n"
   ]
  },
  {
   "cell_type": "code",
   "execution_count": 14,
   "metadata": {},
   "outputs": [],
   "source": [
    "with open(event_file, encoding = 'utf8') as f:\n",
    "    csvreader = csv.reader(f)\n",
    "    next(csvreader) # skip header\n",
    "    for line in csvreader:\n",
    "        # QA: uncomment below to validate the appropriate data is going into database - Not recomended for large datasets\n",
    "        #if line[9] == 'All Hands Against His Own': print (line)\n",
    "        query = \"INSERT INTO song_users (song, user_id, user_first_name, user_last_name)\"\n",
    "        query = query + \" VALUES (%s, %s, %s, %s)\"\n",
    "        # parse rows and pull only needed columns\n",
    "        session.execute(query, (line[9], int(line[10]), line[1], line[4]))"
   ]
  },
  {
   "cell_type": "markdown",
   "metadata": {},
   "source": [
    "#### Question 3: <br>Select every user name (first and last) in my music app history who listened to the song 'All Hands Against His Own'"
   ]
  },
  {
   "cell_type": "code",
   "execution_count": 15,
   "metadata": {},
   "outputs": [
    {
     "name": "stdout",
     "output_type": "stream",
     "text": [
      "Users who have listened to the song 'All Hands Against His Own':\n",
      "\n",
      "\t Jacqueline Lynch\n",
      "\t Tegan Levine\n",
      "\t Sara Johnson\n"
     ]
    }
   ],
   "source": [
    "query = \"select user_first_name, user_last_name from song_users where song = 'All Hands Against His Own'\"\n",
    "try:\n",
    "    rows = session.execute(query)\n",
    "except Exception as e:\n",
    "    print(e)\n",
    "print (\"Users who have listened to the song 'All Hands Against His Own':\\n\")\n",
    "for row in rows:\n",
    "    print ('\\t', row.user_first_name, row.user_last_name)"
   ]
  },
  {
   "cell_type": "markdown",
   "metadata": {},
   "source": [
    "## Clean up \n",
    "### Drop the tables before closing out the sessions"
   ]
  },
  {
   "cell_type": "code",
   "execution_count": 16,
   "metadata": {},
   "outputs": [
    {
     "name": "stdout",
     "output_type": "stream",
     "text": [
      "Dropped table song_length\n",
      "Dropped table song_session\n",
      "Dropped table song_users\n"
     ]
    }
   ],
   "source": [
    "# drop tables created above for answering the specific questions\n",
    "for table in ['song_length', 'song_session', 'song_users']:\n",
    "    query = \"drop table %s\" % table\n",
    "    try:\n",
    "        session.execute(query)\n",
    "        print ('Dropped table %s' % table)\n",
    "    except Exception as e:\n",
    "        print(e)"
   ]
  },
  {
   "cell_type": "markdown",
   "metadata": {},
   "source": [
    "### Close the session and cluster connection¶"
   ]
  },
  {
   "cell_type": "code",
   "execution_count": 17,
   "metadata": {},
   "outputs": [],
   "source": [
    "session.shutdown()\n",
    "cluster.shutdown()"
   ]
  },
  {
   "cell_type": "code",
   "execution_count": 18,
   "metadata": {},
   "outputs": [
    {
     "name": "stdout",
     "output_type": "stream",
     "text": [
      "Done, database clean and conections shutdown.\n"
     ]
    }
   ],
   "source": [
    "print ('Done, database clean and conections shutdown.')"
   ]
  },
  {
   "cell_type": "code",
   "execution_count": null,
   "metadata": {},
   "outputs": [],
   "source": []
  }
 ],
 "metadata": {
  "kernelspec": {
   "display_name": "Python 2",
   "language": "python",
   "name": "python2"
  },
  "language_info": {
   "codemirror_mode": {
    "name": "ipython",
    "version": 2
   },
   "file_extension": ".py",
   "mimetype": "text/x-python",
   "name": "python",
   "nbconvert_exporter": "python",
   "pygments_lexer": "ipython2",
   "version": "2.7.11"
  }
 },
 "nbformat": 4,
 "nbformat_minor": 2
}
